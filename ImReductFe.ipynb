{
 "metadata": {
  "name": "",
  "signature": "sha256:b51fcf7ca553f87499e4cef4c6a228254d5552ac9858c641631c01ef86795c5d"
 },
 "nbformat": 3,
 "nbformat_minor": 0,
 "worksheets": [
  {
   "cells": [
    {
     "cell_type": "code",
     "collapsed": false,
     "input": [
      "import numpy as np\n",
      "import scipy\n",
      "import matplotlib.pyplot as plt\n",
      "import glob\n",
      "import os, sys\n",
      "import time\n",
      "#import astropy\n",
      "from astropy.io import fits\n",
      "from scipy.ndimage import interpolation\n",
      "\n",
      "#Rename images\n",
      "for filename in os.listdir('.'):\n",
      "    if filename.startswith('hmi.V'):\n",
      "        os.rename(filename, filename[10:25]+'hmi.fits')\n",
      "\n",
      "imnames = []\n",
      "imnames = sorted(glob.glob('*hmi.fits'))\n",
      "print imnames[0:3]\n",
      "#import fits image names\n",
      "N = len(imnames)\n",
      "imlist = np.zeros((N,4096,4096))\n",
      "print N #number of fits images\n",
      "#for i in range(N):\n",
      "    #print fits.open(imnames[i])[0].data[0]\n",
      "    #imlist[i] = fits.open(imnames[i])[0].data[0]\n",
      "      \n",
      "#print imnames\n",
      "\n",
      "t = time.time()\n",
      "from time import localtime, strftime\n",
      "tstart = strftime(\"%a, %d %b %Y %H:%M:%S\", localtime())\n",
      "print tstart\n",
      "      \n",
      "# Import image data cubes\n",
      "for i in range(len(imnames)):\n",
      "    im = fits.open(imnames[i])#, disable_image_compression=True)\n",
      "    print im.info()\n",
      "    #print im[1].header\n",
      "    im.verify('fix')\n",
      "    \n",
      "    for j in range(im[1].data.shape[0]):\n",
      "        for k in range(im[1].data.shape[1]):\n",
      "            if np.isnan(im[1].data[j,k]) == True:\n",
      "                im[1].data[j,k] = 0.0\n",
      "                \n",
      "    print 'sum:', im[1].data.sum()\n",
      "\n",
      "    #shift image to account for shift in time ( if necessary)\n",
      "    #image = interpolation.shift(image, (i/len(Naimnames),-3.0*i/len(Naimnames))) # tuple: (y,x) in ds9 image\n",
      "    #hdu4 = fits.PrimaryHDU(image)\n",
      "    #hdu4.writeto('Feimage.fits', clobber=True)\n",
      "    \n",
      "\n",
      "    \n",
      "    #change magnification \n",
      "    image = np.ndarray((1024,1024))\n",
      "    \n",
      "    image = [np.sum(im[1].data[4*j:4*j+4, 4*k:4*k+4]) for j, k in range(1024)]\n",
      "    #for j in range(1024):\n",
      "    #    image = [np.sum(im[1].data[4*j:4*j+4, 4*k:4*k+4]) for k in range(1024)]\n",
      "    \n",
      "    #magnif = 0.25\n",
      "    #print image\n",
      "    #image = interpolation.zoom(im[1].data, magnif)\n",
      "    #mag = interpolation.zoom(mag, magnif)\n",
      "    #trim excess pixels\n",
      "    #dop = dop[(magnif-1)*len(dop)/2:len(dop)-((magnif-1)*len(dop)/2),(magnif-1)*len(dop)/2:len(dop)-((magnif-1)*len(dop)/2)]\n",
      "    #mag = mag[(magnif-1)*len(mag)/2:len(mag)-((magnif-1)*len(mag)/2),(magnif-1)*len(mag)/2:len(mag)-((magnif-1)*len(mag)/2)]\n",
      "\n",
      "\n",
      "    \n",
      "    \n",
      "    #save as .fits files\n",
      "    hduv = fits.PrimaryHDU(image)\n",
      "    hduv.writeto(imnames[i][:15]+'Fedop.fits', clobber=True)\n",
      "    #hdum = fits.PrimaryHDU(mag)\n",
      "    #hdum.writeto(Feimnames[i][8:16]+'Femag.fits', clobber=True)\n",
      "    print i\n",
      "\n",
      "tstep = time.time() - t\n",
      "\n",
      "print(\"\"\"Fe image reduction total runtime (in seconds): {0}\n",
      "        Start time: {1}\n",
      "\"\"\".format(tstep, tstart))"
     ],
     "language": "python",
     "metadata": {},
     "outputs": [
      {
       "output_type": "stream",
       "stream": "stdout",
       "text": [
        "['20140804_180045hmi.fits', '20140804_180130hmi.fits', '20140804_180215hmi.fits']\n",
        "321\n",
        "Mon, 16 Mar 2015 10:21:51\n",
        "Filename: 20140804_180045hmi.fits\n",
        "No.    Name         Type      Cards   Dimensions   Format\n",
        "0    PRIMARY     PrimaryHDU       6   ()              \n",
        "1                CompImageHDU    103   (4096, 4096)   int16   "
       ]
      },
      {
       "output_type": "stream",
       "stream": "stdout",
       "text": [
        "\n"
       ]
      },
      {
       "output_type": "stream",
       "stream": "stdout",
       "text": [
        "None\n"
       ]
      },
      {
       "ename": "KeyboardInterrupt",
       "evalue": "",
       "output_type": "pyerr",
       "traceback": [
        "\u001b[0;31m---------------------------------------------------------------------------\u001b[0m\n\u001b[0;31mKeyboardInterrupt\u001b[0m                         Traceback (most recent call last)",
        "\u001b[0;32m<ipython-input-2-53ccf11c79ba>\u001b[0m in \u001b[0;36m<module>\u001b[0;34m()\u001b[0m\n\u001b[1;32m     40\u001b[0m     \u001b[0;32mfor\u001b[0m \u001b[0mj\u001b[0m \u001b[0;32min\u001b[0m \u001b[0mrange\u001b[0m\u001b[0;34m(\u001b[0m\u001b[0mim\u001b[0m\u001b[0;34m[\u001b[0m\u001b[0;36m1\u001b[0m\u001b[0;34m]\u001b[0m\u001b[0;34m.\u001b[0m\u001b[0mdata\u001b[0m\u001b[0;34m.\u001b[0m\u001b[0mshape\u001b[0m\u001b[0;34m[\u001b[0m\u001b[0;36m0\u001b[0m\u001b[0;34m]\u001b[0m\u001b[0;34m)\u001b[0m\u001b[0;34m:\u001b[0m\u001b[0;34m\u001b[0m\u001b[0m\n\u001b[1;32m     41\u001b[0m         \u001b[0;32mfor\u001b[0m \u001b[0mk\u001b[0m \u001b[0;32min\u001b[0m \u001b[0mrange\u001b[0m\u001b[0;34m(\u001b[0m\u001b[0mim\u001b[0m\u001b[0;34m[\u001b[0m\u001b[0;36m1\u001b[0m\u001b[0;34m]\u001b[0m\u001b[0;34m.\u001b[0m\u001b[0mdata\u001b[0m\u001b[0;34m.\u001b[0m\u001b[0mshape\u001b[0m\u001b[0;34m[\u001b[0m\u001b[0;36m1\u001b[0m\u001b[0;34m]\u001b[0m\u001b[0;34m)\u001b[0m\u001b[0;34m:\u001b[0m\u001b[0;34m\u001b[0m\u001b[0m\n\u001b[0;32m---> 42\u001b[0;31m             \u001b[0;32mif\u001b[0m \u001b[0mnp\u001b[0m\u001b[0;34m.\u001b[0m\u001b[0misnan\u001b[0m\u001b[0;34m(\u001b[0m\u001b[0mim\u001b[0m\u001b[0;34m[\u001b[0m\u001b[0;36m1\u001b[0m\u001b[0;34m]\u001b[0m\u001b[0;34m.\u001b[0m\u001b[0mdata\u001b[0m\u001b[0;34m[\u001b[0m\u001b[0mj\u001b[0m\u001b[0;34m,\u001b[0m\u001b[0mk\u001b[0m\u001b[0;34m]\u001b[0m\u001b[0;34m)\u001b[0m \u001b[0;34m==\u001b[0m \u001b[0mTrue\u001b[0m\u001b[0;34m:\u001b[0m\u001b[0;34m\u001b[0m\u001b[0m\n\u001b[0m\u001b[1;32m     43\u001b[0m                 \u001b[0mim\u001b[0m\u001b[0;34m[\u001b[0m\u001b[0;36m1\u001b[0m\u001b[0;34m]\u001b[0m\u001b[0;34m.\u001b[0m\u001b[0mdata\u001b[0m\u001b[0;34m[\u001b[0m\u001b[0mj\u001b[0m\u001b[0;34m,\u001b[0m\u001b[0mk\u001b[0m\u001b[0;34m]\u001b[0m \u001b[0;34m=\u001b[0m \u001b[0;36m0.0\u001b[0m\u001b[0;34m\u001b[0m\u001b[0m\n\u001b[1;32m     44\u001b[0m \u001b[0;34m\u001b[0m\u001b[0m\n",
        "\u001b[0;31mKeyboardInterrupt\u001b[0m: "
       ]
      }
     ],
     "prompt_number": 2
    },
    {
     "cell_type": "code",
     "collapsed": false,
     "input": [
      "im.verify('fix')"
     ],
     "language": "python",
     "metadata": {},
     "outputs": [],
     "prompt_number": 60
    },
    {
     "cell_type": "code",
     "collapsed": false,
     "input": [],
     "language": "python",
     "metadata": {},
     "outputs": []
    }
   ],
   "metadata": {}
  }
 ]
}