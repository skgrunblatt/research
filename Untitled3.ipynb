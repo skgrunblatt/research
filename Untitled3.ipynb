{
 "metadata": {
  "name": "",
  "signature": "sha256:fee4c150f9fcdb26564b6aeb9c94065c8f002bbed091b96ed0b7c0eba2ef35ef"
 },
 "nbformat": 3,
 "nbformat_minor": 0,
 "worksheets": [
  {
   "cells": [
    {
     "cell_type": "code",
     "collapsed": false,
     "input": [
      "import numpy as np\n",
      "import scipy\n",
      "import matplotlib.pyplot as plt\n",
      "import glob\n",
      "import os\n",
      "#import astropy\\n\",\n",
      "from astropy.io import fits\n",
      "from scipy.ndimage import interpolation, filters, morphology\n",
      "import time\n",
      "\n",
      "def findcenter(image, ref): #reference: HMI image\n",
      "    shape = image.shape\n",
      "    #Pad images\n",
      "    \n",
      "    image = np.pad(image, (512,),'edge')\n",
      "    ref = np.pad(ref, (512,),'edge')\n",
      "    \n",
      "    #Compute FFT of images\n",
      "    f0 = np.fft.fftshift(np.fft.fft2(image/np.max(image)))\n",
      "    f1 = np.fft.fftshift(np.fft.fft2(ref/np.max(ref)))\n",
      "    #print f0\n",
      "    #print np.max(f0), np.min(f0), np.argmax(f0), np.argmin(f0)\n",
      "    print \"image shape:\", np.shape(f0), \"reference shape\", np.shape(f1)\n",
      "    imagereg = abs(np.fft.ifft2((f0*np.conj(f1))/(abs(f0)*abs(f1))))\n",
      "    print imagereg\n",
      "    plt.imshow(imagereg)\n",
      "    plt.clim(0,0.0003)\n",
      "    plt.colorbar()\n",
      "    plt.show()\n",
      "    #imagereg = imagereg[512:1536, 512:1536]\n",
      "    print np.shape(imagereg)\n",
      "    t0, t1= np.unravel_index(np.argmax(imagereg), np.shape(imagereg))\n",
      "    if t0 > np.shape(imagereg)[0] // 2:\n",
      "        t0 -= np.shape(imagereg)[0]\n",
      "    if t1 > np.shape(imagereg)[1] // 2:\n",
      "        t1 -= np.shape(imagereg)[1]\n",
      "    print \"new shift:\", t0,t1\n",
      "    return (-t1,-t0) #tuple: (y,x) in ds9 image, shift in negative dir. to align with ref\n",
      "\n",
      "\n",
      "image = fits.open(\"I_1_215_18_53_10.fits\")\n",
      "\n",
      "plt.imshow(morphology.morphological_gradient(image[0], size=np.shape(image[0])))\n",
      "plt.show()\n",
      "\n",
      "print findcenter(image[0], image[1])"
     ],
     "language": "python",
     "metadata": {},
     "outputs": [
      {
       "ename": "RuntimeError",
       "evalue": "sequence argument must have length equal to input rank",
       "output_type": "pyerr",
       "traceback": [
        "\u001b[0;31m---------------------------------------------------------------------------\u001b[0m\n\u001b[0;31mRuntimeError\u001b[0m                              Traceback (most recent call last)",
        "\u001b[0;32m<ipython-input-3-3cb2a31397da>\u001b[0m in \u001b[0;36m<module>\u001b[0;34m()\u001b[0m\n\u001b[1;32m     41\u001b[0m \u001b[0mimage\u001b[0m \u001b[0;34m=\u001b[0m \u001b[0mfits\u001b[0m\u001b[0;34m.\u001b[0m\u001b[0mopen\u001b[0m\u001b[0;34m(\u001b[0m\u001b[0;34m\"I_1_215_18_53_10.fits\"\u001b[0m\u001b[0;34m)\u001b[0m\u001b[0;34m\u001b[0m\u001b[0m\n\u001b[1;32m     42\u001b[0m \u001b[0;34m\u001b[0m\u001b[0m\n\u001b[0;32m---> 43\u001b[0;31m \u001b[0mplt\u001b[0m\u001b[0;34m.\u001b[0m\u001b[0mimshow\u001b[0m\u001b[0;34m(\u001b[0m\u001b[0mmorphology\u001b[0m\u001b[0;34m.\u001b[0m\u001b[0mmorphological_gradient\u001b[0m\u001b[0;34m(\u001b[0m\u001b[0mimage\u001b[0m\u001b[0;34m[\u001b[0m\u001b[0;36m0\u001b[0m\u001b[0;34m]\u001b[0m\u001b[0;34m,\u001b[0m \u001b[0msize\u001b[0m\u001b[0;34m=\u001b[0m\u001b[0mnp\u001b[0m\u001b[0;34m.\u001b[0m\u001b[0mshape\u001b[0m\u001b[0;34m(\u001b[0m\u001b[0mimage\u001b[0m\u001b[0;34m[\u001b[0m\u001b[0;36m0\u001b[0m\u001b[0;34m]\u001b[0m\u001b[0;34m)\u001b[0m\u001b[0;34m)\u001b[0m\u001b[0;34m)\u001b[0m\u001b[0;34m\u001b[0m\u001b[0m\n\u001b[0m\u001b[1;32m     44\u001b[0m \u001b[0mplt\u001b[0m\u001b[0;34m.\u001b[0m\u001b[0mshow\u001b[0m\u001b[0;34m(\u001b[0m\u001b[0;34m)\u001b[0m\u001b[0;34m\u001b[0m\u001b[0m\n\u001b[1;32m     45\u001b[0m \u001b[0;34m\u001b[0m\u001b[0m\n",
        "\u001b[0;32m/net/calla.ifa.hawaii.edu/Volumes/indicium/code/ureka/v1.0_dev6_64/Ureka/python/lib/python2.7/site-packages/scipy/ndimage/morphology.pyc\u001b[0m in \u001b[0;36mmorphological_gradient\u001b[0;34m(input, size, footprint, structure, output, mode, cval, origin)\u001b[0m\n\u001b[1;32m   1568\u001b[0m     \"\"\"\n\u001b[1;32m   1569\u001b[0m     tmp = grey_dilation(input, size, footprint, structure, None, mode,\n\u001b[0;32m-> 1570\u001b[0;31m                         cval, origin)\n\u001b[0m\u001b[1;32m   1571\u001b[0m     \u001b[0;32mif\u001b[0m \u001b[0misinstance\u001b[0m\u001b[0;34m(\u001b[0m\u001b[0moutput\u001b[0m\u001b[0;34m,\u001b[0m \u001b[0mnumpy\u001b[0m\u001b[0;34m.\u001b[0m\u001b[0mndarray\u001b[0m\u001b[0;34m)\u001b[0m\u001b[0;34m:\u001b[0m\u001b[0;34m\u001b[0m\u001b[0m\n\u001b[1;32m   1572\u001b[0m         grey_erosion(input, size, footprint, structure, output, mode,\n",
        "\u001b[0;32m/net/calla.ifa.hawaii.edu/Volumes/indicium/code/ureka/v1.0_dev6_64/Ureka/python/lib/python2.7/site-packages/scipy/ndimage/morphology.pyc\u001b[0m in \u001b[0;36mgrey_dilation\u001b[0;34m(input, size, footprint, structure, output, mode, cval, origin)\u001b[0m\n\u001b[1;32m   1302\u001b[0m \u001b[0;34m\u001b[0m\u001b[0m\n\u001b[1;32m   1303\u001b[0m     return filters._min_or_max_filter(input, size, footprint, structure,\n\u001b[0;32m-> 1304\u001b[0;31m                                       output, mode, cval, origin, 0)\n\u001b[0m\u001b[1;32m   1305\u001b[0m \u001b[0;34m\u001b[0m\u001b[0m\n\u001b[1;32m   1306\u001b[0m \u001b[0;34m\u001b[0m\u001b[0m\n",
        "\u001b[0;32m/net/calla.ifa.hawaii.edu/Volumes/indicium/code/ureka/v1.0_dev6_64/Ureka/python/lib/python2.7/site-packages/scipy/ndimage/filters.pyc\u001b[0m in \u001b[0;36m_min_or_max_filter\u001b[0;34m(input, size, footprint, structure, output, mode, cval, origin, minimum)\u001b[0m\n\u001b[1;32m    857\u001b[0m     \u001b[0morigins\u001b[0m \u001b[0;34m=\u001b[0m \u001b[0m_ni_support\u001b[0m\u001b[0;34m.\u001b[0m\u001b[0m_normalize_sequence\u001b[0m\u001b[0;34m(\u001b[0m\u001b[0morigin\u001b[0m\u001b[0;34m,\u001b[0m \u001b[0minput\u001b[0m\u001b[0;34m.\u001b[0m\u001b[0mndim\u001b[0m\u001b[0;34m)\u001b[0m\u001b[0;34m\u001b[0m\u001b[0m\n\u001b[1;32m    858\u001b[0m     \u001b[0;32mif\u001b[0m \u001b[0mseparable\u001b[0m\u001b[0;34m:\u001b[0m\u001b[0;34m\u001b[0m\u001b[0m\n\u001b[0;32m--> 859\u001b[0;31m         \u001b[0msizes\u001b[0m \u001b[0;34m=\u001b[0m \u001b[0m_ni_support\u001b[0m\u001b[0;34m.\u001b[0m\u001b[0m_normalize_sequence\u001b[0m\u001b[0;34m(\u001b[0m\u001b[0msize\u001b[0m\u001b[0;34m,\u001b[0m \u001b[0minput\u001b[0m\u001b[0;34m.\u001b[0m\u001b[0mndim\u001b[0m\u001b[0;34m)\u001b[0m\u001b[0;34m\u001b[0m\u001b[0m\n\u001b[0m\u001b[1;32m    860\u001b[0m         \u001b[0maxes\u001b[0m \u001b[0;34m=\u001b[0m \u001b[0mlist\u001b[0m\u001b[0;34m(\u001b[0m\u001b[0mrange\u001b[0m\u001b[0;34m(\u001b[0m\u001b[0minput\u001b[0m\u001b[0;34m.\u001b[0m\u001b[0mndim\u001b[0m\u001b[0;34m)\u001b[0m\u001b[0;34m)\u001b[0m\u001b[0;34m\u001b[0m\u001b[0m\n\u001b[1;32m    861\u001b[0m         axes = [(axes[ii], sizes[ii], origins[ii])\n",
        "\u001b[0;32m/net/calla.ifa.hawaii.edu/Volumes/indicium/code/ureka/v1.0_dev6_64/Ureka/python/lib/python2.7/site-packages/scipy/ndimage/_ni_support.pyc\u001b[0m in \u001b[0;36m_normalize_sequence\u001b[0;34m(input, rank, array_type)\u001b[0m\n\u001b[1;32m     64\u001b[0m         \u001b[0;32mif\u001b[0m \u001b[0mlen\u001b[0m\u001b[0;34m(\u001b[0m\u001b[0mnormalized\u001b[0m\u001b[0;34m)\u001b[0m \u001b[0;34m!=\u001b[0m \u001b[0mrank\u001b[0m\u001b[0;34m:\u001b[0m\u001b[0;34m\u001b[0m\u001b[0m\n\u001b[1;32m     65\u001b[0m             \u001b[0merr\u001b[0m \u001b[0;34m=\u001b[0m \u001b[0;34m\"sequence argument must have length equal to input rank\"\u001b[0m\u001b[0;34m\u001b[0m\u001b[0m\n\u001b[0;32m---> 66\u001b[0;31m             \u001b[0;32mraise\u001b[0m \u001b[0mRuntimeError\u001b[0m\u001b[0;34m(\u001b[0m\u001b[0merr\u001b[0m\u001b[0;34m)\u001b[0m\u001b[0;34m\u001b[0m\u001b[0m\n\u001b[0m\u001b[1;32m     67\u001b[0m     \u001b[0;32mreturn\u001b[0m \u001b[0mnormalized\u001b[0m\u001b[0;34m\u001b[0m\u001b[0m\n\u001b[1;32m     68\u001b[0m \u001b[0;34m\u001b[0m\u001b[0m\n",
        "\u001b[0;31mRuntimeError\u001b[0m: sequence argument must have length equal to input rank"
       ]
      }
     ],
     "prompt_number": 3
    },
    {
     "cell_type": "code",
     "collapsed": false,
     "input": [],
     "language": "python",
     "metadata": {},
     "outputs": []
    }
   ],
   "metadata": {}
  }
 ]
}