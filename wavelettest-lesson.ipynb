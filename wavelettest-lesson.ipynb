{
 "metadata": {
  "name": "",
  "signature": "sha256:a4b756fda03935dce5d38b638dd0edb3a500b4ae1321f14816b27ce0f8839013"
 },
 "nbformat": 3,
 "nbformat_minor": 0,
 "worksheets": [
  {
   "cells": [
    {
     "cell_type": "heading",
     "level": 1,
     "metadata": {},
     "source": [
      "Introduction to Scientific Programming in Python: Performing a Least Squares Fit to Data"
     ]
    },
    {
     "cell_type": "markdown",
     "metadata": {},
     "source": [
      "<img src=\"http://www.schoolsobservatory.org.uk/sites/default/files/astro/trans_ani.gif\">"
     ]
    },
    {
     "cell_type": "heading",
     "level": 2,
     "metadata": {},
     "source": [
      "Background"
     ]
    },
    {
     "cell_type": "heading",
     "level": 2,
     "metadata": {},
     "source": [
      "Vocabulary"
     ]
    },
    {
     "cell_type": "code",
     "collapsed": false,
     "input": [
      "import numpy as np\n",
      "from scipy.optimize import leastsq, curve_fit\n",
      "\n",
      "func = lambda p, t: (p[0]**2*(2*np.pi*p[2])/np.sqrt(8*np.pi))*np.exp(-(2*np.pi*p[2])**2*(t - p[3])**2/8)*np.cos(2*np.pi*p[1]*(t-p[4]))\n",
      "errfunc = lambda p, t, y: func(p,t) - y\n",
      "p0 = [1000000, 0.004, 0.01, 1000, 450] #initial guess of parameters\n",
      "\n",
      "\n",
      "#Test fit to model, see what params are returned\n",
      "testimes = np.linspace(-3600,3600,720)\n",
      "testwave = (10000000**2*(2*np.pi*0.0004)/np.sqrt(8*np.pi))*np.exp(-((2*np.pi*0.0004)**2*(testimes - 2000)**2)/8)*np.cos(2*np.pi*0.003*(testimes-500))\n",
      "\n",
      "plt.plot(testimes,testwave)\n",
      "\n",
      "#Make least squares fit of model to fake data signals\n",
      "p1,success = leastsq(errfunc, p0[:], args=(testimes, testwave))\n",
      "p1,success = curve_fit(func, testimes, testwave, p0)\n",
      "\n",
      "#plot data and fit together\n",
      "plt.plot(testimes, func(p1, testimes), 'r', testimes, testwave, 'b')\n",
      "plt.legend(('data','model'))\n",
      "plt.title('K/Na wavelet fit')\n",
      "plt.show()\n",
      "print(\"\"\"K/Na pixel wavelet\n",
      "        A: {0}\n",
      "        nu: {1} Hz\n",
      "        deltanu: {2} Hz\n",
      "        Tgroup: {3} s\n",
      "        Tphase: {4} s\n",
      "        Successful fit? (1 if yes.) {5}\n",
      "\"\"\".format(p1[0],p1[1],p1[2],p1[3],p1[4], success))\n",
      "\n",
      "#Now fit to real data\n"
     ],
     "language": "python",
     "metadata": {},
     "outputs": [
      {
       "metadata": {},
       "output_type": "display_data",
       "png": "[encoded data removed]",
       "text": [
        "<matplotlib.figure.Figure at 0x10aae1590>"
       ]
      },
      {
       "output_type": "stream",
       "stream": "stdout",
       "text": [
        "K/Na pixel wavelet\n",
        "        A: 10000000.0\n",
        "        nu: 0.003 Hz\n",
        "        deltanu: 0.0004 Hz\n",
        "        Tgroup: 2000.0 s\n",
        "        Tphase: 500.0 s\n",
        "        Successful fit? (1 if yes.) 2\n",
        "\n"
       ]
      }
     ],
     "prompt_number": 9
    },
    {
     "cell_type": "code",
     "collapsed": false,
     "input": [],
     "language": "python",
     "metadata": {},
     "outputs": [],
     "prompt_number": 12
    },
    {
     "cell_type": "code",
     "collapsed": false,
     "input": [],
     "language": "python",
     "metadata": {},
     "outputs": [
      {
       "metadata": {},
       "output_type": "pyout",
       "prompt_number": 27,
       "text": [
        "'1345'"
       ]
      }
     ],
     "prompt_number": 27
    },
    {
     "cell_type": "code",
     "collapsed": false,
     "input": [],
     "language": "python",
     "metadata": {},
     "outputs": [],
     "prompt_number": 57
    },
    {
     "cell_type": "code",
     "collapsed": false,
     "input": [],
     "language": "python",
     "metadata": {},
     "outputs": [
      {
       "output_type": "stream",
       "stream": "stdout",
       "text": [
        "\u001b[0;31mERROR\u001b[0m: NameError: name 'verbose' is not defined [IPython.core.interactiveshell]\n"
       ]
      },
      {
       "ename": "NameError",
       "evalue": "name 'verbose' is not defined",
       "output_type": "pyerr",
       "traceback": [
        "\u001b[0;31m---------------------------------------------------------------------------\u001b[0m\n\u001b[0;31mNameError\u001b[0m                                 Traceback (most recent call last)",
        "\u001b[0;32m<ipython-input-4-830b6b37b9a8>\u001b[0m in \u001b[0;36m<module>\u001b[0;34m()\u001b[0m\n\u001b[1;32m      1\u001b[0m \u001b[0ma\u001b[0m \u001b[0;34m=\u001b[0m \u001b[0;36m1\u001b[0m\u001b[0;34m\u001b[0m\u001b[0m\n\u001b[0;32m----> 2\u001b[0;31m \u001b[0;34m-\u001b[0m\u001b[0;34m-\u001b[0m\u001b[0mverbose\u001b[0m\u001b[0;34m-\u001b[0m\u001b[0mdebug\u001b[0m\u001b[0;34m\u001b[0m\u001b[0m\n\u001b[0m",
        "\u001b[0;31mNameError\u001b[0m: name 'verbose' is not defined"
       ]
      }
     ],
     "prompt_number": 4
    },
    {
     "cell_type": "code",
     "collapsed": false,
     "input": [],
     "language": "python",
     "metadata": {},
     "outputs": []
    }
   ],
   "metadata": {}
  }
 ]
}