{
 "metadata": {
  "name": "",
  "signature": "sha256:d3f01d56b7e0db814e406417f5183d1adfa43cd8b4248cd440a4346b6e8d19bb"
 },
 "nbformat": 3,
 "nbformat_minor": 0,
 "worksheets": []
}